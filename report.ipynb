{
 "cells": [
  {
   "cell_type": "markdown",
   "metadata": {},
   "source": [
    "# Report\n",
    "\n",
    "---\n",
    "\n",
    "\n",
    "### 1. Implementations\n",
    "The report is to describe the implementations of Deep Deterministic Policy Gradient (ddpg) to the cooperative project. \n",
    "\n",
    "\n",
    "### 2. Algorithm \n",
    "#### Algorithm\n",
    "The algorithm used ddpg for cooperative control. \n",
    "\n",
    "#### Hyperparameters\n",
    "The algorithm use the state from both players for the ddpg agent to learn. This assume that the information are shared between players to achieve cooperation. Learn 6 times per time step.\n",
    "\n",
    "\n",
    "\n",
    "#### model architectures\n",
    "\n",
    "Two hidden layer is used in the application and each has 64 nodes. The small network is used to ensure faster learning. "
   ]
  },
  {
   "cell_type": "markdown",
   "metadata": {},
   "source": [
    "### 3. Plot of reward"
   ]
  },
  {
   "cell_type": "markdown",
   "metadata": {},
   "source": [
    "Results are \n",
    "![rewards](reward.png)"
   ]
  },
  {
   "cell_type": "markdown",
   "metadata": {},
   "source": [
    "### 4. Future ideas\n",
    "* Try out different net to stable the performance\n",
    "* The current solution used cooperative mostly. We can explore competivite way in the future"
   ]
  }
 ],
 "metadata": {
  "kernelspec": {
   "display_name": "drlnd1",
   "language": "python",
   "name": "drlnd1"
  },
  "language_info": {
   "codemirror_mode": {
    "name": "ipython",
    "version": 3
   },
   "file_extension": ".py",
   "mimetype": "text/x-python",
   "name": "python",
   "nbconvert_exporter": "python",
   "pygments_lexer": "ipython3",
   "version": "3.6.10"
  }
 },
 "nbformat": 4,
 "nbformat_minor": 2
}
